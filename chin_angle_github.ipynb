{
 "cells": [
  {
   "cell_type": "code",
   "execution_count": 2,
   "metadata": {
    "collapsed": false
   },
   "outputs": [],
   "source": [
    "import json\n",
    "import pandas as pd\n",
    "import numpy as np\n",
    "from pandas import DataFrame, Series"
   ]
  },
  {
   "cell_type": "code",
   "execution_count": 3,
   "metadata": {
    "collapsed": false
   },
   "outputs": [],
   "source": [
    "with open('jsh.json') as data_file:    \n",
    "    data = json.load(data_file)"
   ]
  },
  {
   "cell_type": "code",
   "execution_count": 4,
   "metadata": {
    "collapsed": false
   },
   "outputs": [],
   "source": [
    "landmark_data = data['result'][0]['landmark']"
   ]
  },
  {
   "cell_type": "code",
   "execution_count": 5,
   "metadata": {
    "collapsed": false
   },
   "outputs": [],
   "source": [
    "ldf = DataFrame.from_dict(landmark_data)"
   ]
  },
  {
   "cell_type": "code",
   "execution_count": 6,
   "metadata": {
    "collapsed": false
   },
   "outputs": [],
   "source": [
    "ldf_T = ldf.T"
   ]
  },
  {
   "cell_type": "code",
   "execution_count": 7,
   "metadata": {
    "collapsed": false
   },
   "outputs": [
    {
     "data": {
      "text/html": [
       "<div>\n",
       "<table border=\"1\" class=\"dataframe\">\n",
       "  <thead>\n",
       "    <tr style=\"text-align: right;\">\n",
       "      <th></th>\n",
       "      <th>x</th>\n",
       "      <th>y</th>\n",
       "    </tr>\n",
       "  </thead>\n",
       "  <tbody>\n",
       "    <tr>\n",
       "      <th>contour_chin</th>\n",
       "      <td>68.207333</td>\n",
       "      <td>71.307556</td>\n",
       "    </tr>\n",
       "    <tr>\n",
       "      <th>contour_left1</th>\n",
       "      <td>54.793833</td>\n",
       "      <td>45.019556</td>\n",
       "    </tr>\n",
       "    <tr>\n",
       "      <th>contour_left2</th>\n",
       "      <td>55.169167</td>\n",
       "      <td>49.534222</td>\n",
       "    </tr>\n",
       "    <tr>\n",
       "      <th>contour_left3</th>\n",
       "      <td>55.773500</td>\n",
       "      <td>53.576889</td>\n",
       "    </tr>\n",
       "    <tr>\n",
       "      <th>contour_left4</th>\n",
       "      <td>56.671000</td>\n",
       "      <td>57.778963</td>\n",
       "    </tr>\n",
       "  </tbody>\n",
       "</table>\n",
       "</div>"
      ],
      "text/plain": [
       "                       x          y\n",
       "contour_chin   68.207333  71.307556\n",
       "contour_left1  54.793833  45.019556\n",
       "contour_left2  55.169167  49.534222\n",
       "contour_left3  55.773500  53.576889\n",
       "contour_left4  56.671000  57.778963"
      ]
     },
     "execution_count": 7,
     "metadata": {},
     "output_type": "execute_result"
    }
   ],
   "source": [
    "ldf_T.head()"
   ]
  },
  {
   "cell_type": "code",
   "execution_count": 10,
   "metadata": {
    "collapsed": false
   },
   "outputs": [],
   "source": [
    "def angle(top_point, middle_point, bottom_point):\n",
    "    top_line_slope = (middle_point.y - top_point.y) / (middle_point.x - top_point.x)\n",
    "    bottom_line_slope = (middle_point.y - bottom_point.y) / (middle_point.x - bottom_point.x)\n",
    "    \n",
    "    angle_rad = np.arctan(abs( (top_line_slope - bottom_line_slope) / (1 + top_line_slope * bottom_line_slope)))\n",
    "    angle_deg = np.degrees(angle_rad)\n",
    "    if angle_deg < 90:\n",
    "        angle_result = 180 - angle_deg\n",
    "    else:\n",
    "        angle_result = angle_deg\n",
    "    return angle_result\n",
    "\n",
    "def avg_angle(df):\n",
    "    l_pt1 = df.loc['contour_left1']\n",
    "    l_pt2 = df.loc['contour_left5']\n",
    "    l_pt3 = df.loc['contour_left9']\n",
    "    r_pt1 = df.loc['contour_right1']\n",
    "    r_pt2 = df.loc['contour_right5']\n",
    "    r_pt3 = df.loc['contour_right9']\n",
    "    \n",
    "    l_angle = angle(l_pt1, l_pt2, l_pt3)\n",
    "    r_angle = angle(r_pt1, r_pt2, r_pt3)\n",
    "    \n",
    "    print (\"왼쪽 턱 각도: %f | 오른쪽 턱 각도:%f\" % (l_angle, r_angle))\n",
    "    \n",
    "    result = (l_angle + r_angle) / 2\n",
    "    \n",
    "    return result"
   ]
  },
  {
   "cell_type": "code",
   "execution_count": 11,
   "metadata": {
    "collapsed": false
   },
   "outputs": [
    {
     "name": "stdout",
     "output_type": "stream",
     "text": [
      "왼쪽 턱 각도: 151.517503 | 오른쪽 턱 각도:153.695799\n"
     ]
    },
    {
     "data": {
      "text/plain": [
       "152.60665105019064"
      ]
     },
     "execution_count": 11,
     "metadata": {},
     "output_type": "execute_result"
    }
   ],
   "source": [
    "avg_angle(ldf_T)"
   ]
  }
 ],
 "metadata": {
  "kernelspec": {
   "display_name": "Python 3",
   "language": "python",
   "name": "python3"
  },
  "language_info": {
   "codemirror_mode": {
    "name": "ipython",
    "version": 3
   },
   "file_extension": ".py",
   "mimetype": "text/x-python",
   "name": "python",
   "nbconvert_exporter": "python",
   "pygments_lexer": "ipython3",
   "version": "3.4.3"
  }
 },
 "nbformat": 4,
 "nbformat_minor": 0
}
